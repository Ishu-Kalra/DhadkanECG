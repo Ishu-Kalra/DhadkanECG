{
 "cells": [
  {
   "cell_type": "code",
   "execution_count": 75,
   "metadata": {},
   "outputs": [
    {
     "name": "stdout",
     "output_type": "stream",
     "text": [
      "Libraries Loaded!\n"
     ]
    }
   ],
   "source": [
    "#Import libraries\n",
    "import numpy as np\n",
    "import pandas as pd\n",
    "import matplotlib.pyplot as plt\n",
    "%matplotlib inline\n",
    "from sklearn.metrics import roc_curve, roc_auc_score\n",
    "from scipy.ndimage.filters import gaussian_filter1d, uniform_filter1d, median_filter\n",
    "import warnings\n",
    "warnings.filterwarnings('ignore')\n",
    "\n",
    "#Import libraries for Deep Learning\n",
    "from keras.models import Sequential, Model\n",
    "from keras.layers import Conv1D, MaxPool1D, Dense, Dropout, Flatten, BatchNormalization, Input, concatenate, Activation\n",
    "from keras.optimizers import Adam\n",
    "\n",
    "print ('Libraries Loaded!')"
   ]
  },
  {
   "cell_type": "code",
   "execution_count": 76,
   "metadata": {},
   "outputs": [],
   "source": [
    "import wfdb as wf\n",
    "import numpy as np\n",
    "import pandas as pd\n",
    "from glob import glob\n",
    "from tqdm import tqdm\n",
    "from matplotlib import pyplot as plt\n",
    "import pylab as plt\n",
    "import numpy as np\n",
    "\n",
    "%matplotlib inline"
   ]
  },
  {
   "cell_type": "code",
   "execution_count": 77,
   "metadata": {},
   "outputs": [],
   "source": [
    "# wf.dldatabase('mitdb', '/home/nick/Desktop/Electrocardiogram/Data')"
   ]
  },
  {
   "cell_type": "code",
   "execution_count": 78,
   "metadata": {},
   "outputs": [],
   "source": [
    "paths = glob('Data/*.dat')\n",
    "paths = [path[:-4] for path in paths]\n",
    "paths.sort()"
   ]
  },
  {
   "cell_type": "code",
   "execution_count": 79,
   "metadata": {},
   "outputs": [],
   "source": [
    "beat_annotations = ['N', 'L', 'R', 'B',\n",
    "                    'A', 'a', 'J', 'S', 'V',\n",
    "                    'r', 'F', 'e', 'j', 'n',\n",
    "                    'E', '/', 'f', 'Q', '?'] \n",
    "# 0.5 of how much signal we want per beat\n",
    "half_qrs = 150"
   ]
  },
  {
   "cell_type": "code",
   "execution_count": 80,
   "metadata": {
    "scrolled": false
   },
   "outputs": [
    {
     "name": "stderr",
     "output_type": "stream",
     "text": [
      "\n",
      "\n",
      "  0%|          | 0/48 [00:00<?, ?it/s]\u001b[A\u001b[A\n",
      "\n",
      "  2%|▏         | 1/48 [00:00<00:05,  9.21it/s]\u001b[A\u001b[A"
     ]
    },
    {
     "name": "stdout",
     "output_type": "stream",
     "text": [
      "Working with file: Data/100\n",
      "       2273\n",
      "(N\u0000       1\n",
      "Name: 0, dtype: int64\n",
      "Record : (array([[-0.145, -0.065],\n",
      "       [-0.145, -0.065],\n",
      "       [-0.145, -0.065],\n",
      "       ...,\n",
      "       [-0.675, -0.365],\n",
      "       [-0.765, -0.335],\n",
      "       [-1.28 ,  0.   ]]), {'fs': 360, 'sig_len': 650000, 'n_sig': 2, 'base_date': None, 'base_time': None, 'units': ['mV', 'mV'], 'sig_name': ['MLII', 'V5'], 'comments': ['69 M 1085 1629 x1', 'Aldomet, Inderal']})\n",
      "Working with file: Data/101\n",
      "       1873\n",
      "(N\u0000       1\n",
      "Name: 0, dtype: int64\n",
      "Record : (array([[-0.345, -0.16 ],\n",
      "       [-0.345, -0.16 ],\n",
      "       [-0.345, -0.16 ],\n",
      "       ...,\n",
      "       [-0.295, -0.11 ],\n",
      "       [-0.29 , -0.11 ],\n",
      "       [ 0.   ,  0.   ]]), {'fs': 360, 'sig_len': 650000, 'n_sig': 2, 'base_date': None, 'base_time': None, 'units': ['mV', 'mV'], 'sig_name': ['MLII', 'V1'], 'comments': ['75 F 1011 654 x1', 'Diapres']})\n",
      "Working with file: Data/102\n"
     ]
    },
    {
     "name": "stderr",
     "output_type": "stream",
     "text": [
      "\n",
      "\n",
      "  6%|▋         | 3/48 [00:00<00:03, 11.80it/s]\u001b[A\u001b[A\n",
      "\n",
      " 10%|█         | 5/48 [00:00<00:03, 12.84it/s]\u001b[A\u001b[A"
     ]
    },
    {
     "name": "stdout",
     "output_type": "stream",
     "text": [
      "       2187\n",
      "(P\u0000       3\n",
      "(N\u0000       2\n",
      "Name: 0, dtype: int64\n",
      "Record : (array([[-0.2  ,  0.005],\n",
      "       [-0.2  ,  0.005],\n",
      "       [-0.2  ,  0.005],\n",
      "       ...,\n",
      "       [-0.17 ,  0.2  ],\n",
      "       [-0.195,  0.195],\n",
      "       [ 0.   ,  0.   ]]), {'fs': 360, 'sig_len': 650000, 'n_sig': 2, 'base_date': None, 'base_time': None, 'units': ['mV', 'mV'], 'sig_name': ['V5', 'V2'], 'comments': ['84 F 1525 167 x1', 'Digoxin', 'The rhythm is paced with a demand pacemaker.  The PVCs are multiform.']})\n",
      "Working with file: Data/103\n",
      "       2090\n",
      "(N\u0000       1\n",
      "Name: 0, dtype: int64\n",
      "Record : (array([[-0.375,  0.05 ],\n",
      "       [-0.375,  0.05 ],\n",
      "       [-0.375,  0.05 ],\n",
      "       ...,\n",
      "       [-0.235,  0.05 ],\n",
      "       [-0.245,  0.055],\n",
      "       [ 0.   ,  0.   ]]), {'fs': 360, 'sig_len': 650000, 'n_sig': 2, 'base_date': None, 'base_time': None, 'units': ['mV', 'mV'], 'sig_name': ['MLII', 'V2'], 'comments': ['-1 M 742 654 x1', 'Diapres, Xyloprim']})\n",
      "Working with file: Data/104\n",
      "       2266\n",
      "(P\u0000      23\n",
      "(N\u0000      22\n",
      "Name: 0, dtype: int64\n",
      "Record : (array([[-0.15 ,  0.2  ],\n",
      "       [-0.15 ,  0.2  ],\n",
      "       [-0.15 ,  0.2  ],\n",
      "       ...,\n",
      "       [-0.065,  0.2  ],\n",
      "       [-0.06 ,  0.205],\n",
      "       [ 0.   ,  0.   ]]), {'fs': 360, 'sig_len': 650000, 'n_sig': 2, 'base_date': None, 'base_time': None, 'units': ['mV', 'mV'], 'sig_name': ['V5', 'V2'], 'comments': ['66 F 1567 694 x1', 'Digoxin, Pronestyl', 'The rate of paced rhythm is close to that of the underlying sinus rhythm,', 'resulting in many pacemaker fusion beats.  The PVCs are multiform.  Several', 'bursts of muscle noise occur, but the signals are generally of good quality.']})\n",
      "Working with file: Data/105\n"
     ]
    },
    {
     "name": "stderr",
     "output_type": "stream",
     "text": [
      "\n",
      "\n",
      " 15%|█▍        | 7/48 [00:00<00:03, 13.06it/s]\u001b[A\u001b[A"
     ]
    },
    {
     "name": "stdout",
     "output_type": "stream",
     "text": [
      "       2690\n",
      "(N\u0000       1\n",
      "Name: 0, dtype: int64\n",
      "Record : (array([[-0.445,  0.26 ],\n",
      "       [-0.445,  0.26 ],\n",
      "       [-0.445,  0.26 ],\n",
      "       ...,\n",
      "       [ 0.59 , -0.37 ],\n",
      "       [ 0.76 , -0.38 ],\n",
      "       [ 1.28 ,  0.   ]]), {'fs': 360, 'sig_len': 650000, 'n_sig': 2, 'base_date': None, 'base_time': None, 'units': ['mV', 'mV'], 'sig_name': ['MLII', 'V1'], 'comments': ['73 F 1624 1629 x1', 'Digoxin, Nitropaste, Pronestyl', 'The PVCs are uniform.  The predominant feature of this tape is', 'high-grade noise and artifact.']})\n",
      "Working with file: Data/106\n",
      "        2057\n",
      "(N\u0000       21\n",
      "(B\u0000       18\n",
      "(VT\u0000       1\n",
      "(T\u0000        1\n",
      "Name: 0, dtype: int64\n",
      "Record : (array([[-0.31 ,  0.195],\n",
      "       [-0.31 ,  0.195],\n",
      "       [-0.31 ,  0.195],\n",
      "       ...,\n",
      "       [ 0.635,  0.265],\n",
      "       [ 0.265,  0.405],\n",
      "       [ 0.   ,  0.   ]]), {'fs': 360, 'sig_len': 650000, 'n_sig': 2, 'base_date': None, 'base_time': None, 'units': ['mV', 'mV'], 'sig_name': ['MLII', 'V1'], 'comments': ['24 F 1581 654 x1', 'Inderal', 'The PVCs are multiform.']})\n",
      "Working with file: Data/107\n",
      "       2139\n",
      "(P\u0000       1\n",
      "Name: 0, dtype: int64\n",
      "Record : (array([[-2.045, -1.245],\n",
      "       [-2.045, -1.245],\n",
      "       [-2.045, -1.245],\n",
      "       ...,\n",
      "       [-0.645,  0.07 ],\n",
      "       [-0.635,  0.065],\n",
      "       [ 0.   ,  0.   ]]), {'fs': 360, 'sig_len': 650000, 'n_sig': 2, 'base_date': None, 'base_time': None, 'units': ['mV', 'mV'], 'sig_name': ['MLII', 'V1'], 'comments': ['63 M 1340 167 x1', 'Digoxin', 'Complete heart block is present. The PVCs are multiform.']})\n",
      "Working with file: Data/108\n"
     ]
    },
    {
     "name": "stderr",
     "output_type": "stream",
     "text": [
      "\n",
      "\n",
      " 19%|█▉        | 9/48 [00:00<00:02, 13.29it/s]\u001b[A\u001b[A\n",
      "\n",
      " 23%|██▎       | 11/48 [00:00<00:02, 13.41it/s]\u001b[A\u001b[A"
     ]
    },
    {
     "name": "stdout",
     "output_type": "stream",
     "text": [
      "      1823\n",
      "(N       1\n",
      "Name: 0, dtype: int64\n",
      "Record : (array([[-0.125, -0.78 ],\n",
      "       [-0.125, -0.78 ],\n",
      "       [-0.125, -0.78 ],\n",
      "       ...,\n",
      "       [-0.01 ,  0.085],\n",
      "       [ 0.04 ,  0.08 ],\n",
      "       [ 0.   ,  0.   ]]), {'fs': 360, 'sig_len': 650000, 'n_sig': 2, 'base_date': None, 'base_time': None, 'units': ['mV', 'mV'], 'sig_name': ['MLII', 'V1'], 'comments': ['87 F 1227 654 x1', 'Digoxin, Quinaglute', 'There is borderline first degree AV block and sinus arrhythmia.  The', 'PVCs are multiform.  The lower channel exhibits considerable noise and', 'baseline shifts.']})\n",
      "Working with file: Data/109\n",
      "       2534\n",
      "(N\u0000       1\n",
      "Name: 0, dtype: int64\n",
      "Record : (array([[ 0.175,  0.635],\n",
      "       [ 0.175,  0.635],\n",
      "       [ 0.175,  0.635],\n",
      "       ...,\n",
      "       [-0.92 ,  0.36 ],\n",
      "       [-0.91 ,  0.365],\n",
      "       [-1.28 ,  0.   ]]), {'fs': 360, 'sig_len': 650000, 'n_sig': 2, 'base_date': None, 'base_time': None, 'units': ['mV', 'mV'], 'sig_name': ['MLII', 'V1'], 'comments': ['64 M 1508 694 x1', 'Quinidine', 'There is first degree AV block.  The PVCs are multiform.']})\n",
      "Working with file: Data/111\n",
      "       2132\n",
      "(N\u0000       1\n",
      "Name: 0, dtype: int64\n",
      "Record : (array([[-0.035,  0.035],\n",
      "       [-0.035,  0.035],\n",
      "       [-0.035,  0.035],\n",
      "       ...,\n",
      "       [ 0.155, -0.79 ],\n",
      "       [ 0.2  , -0.795],\n",
      "       [ 0.   , -1.28 ]]), {'fs': 360, 'sig_len': 650000, 'n_sig': 2, 'base_date': None, 'base_time': None, 'units': ['mV', 'mV'], 'sig_name': ['MLII', 'V1'], 'comments': ['47 F 937 167 x1', 'Digoxin, Lasix', 'There is first degree AV block.  There are short bursts of both baseline', 'shifts and muscle noise, but in general, the quality is excellent.']})\n",
      "Working with file: Data/112\n"
     ]
    },
    {
     "name": "stderr",
     "output_type": "stream",
     "text": [
      "\n",
      "\n",
      " 27%|██▋       | 13/48 [00:00<00:02, 13.53it/s]\u001b[A\u001b[A"
     ]
    },
    {
     "name": "stdout",
     "output_type": "stream",
     "text": [
      "       2549\n",
      "(N\u0000       1\n",
      "Name: 0, dtype: int64\n",
      "Record : (array([[-0.75 , -0.62 ],\n",
      "       [-0.75 , -0.62 ],\n",
      "       [-0.75 , -0.62 ],\n",
      "       ...,\n",
      "       [-0.825, -0.59 ],\n",
      "       [-0.81 , -0.58 ],\n",
      "       [-1.28 ,  0.   ]]), {'fs': 360, 'sig_len': 650000, 'n_sig': 2, 'base_date': None, 'base_time': None, 'units': ['mV', 'mV'], 'sig_name': ['MLII', 'V1'], 'comments': ['54 M 903 654 x2', 'Digoxin, Pronestyl', 'There is S-T segment depression in the upper channel.']})\n",
      "Working with file: Data/113\n",
      "       1795\n",
      "(N\u0000       1\n",
      "Name: 0, dtype: int64\n",
      "Record : (array([[-0.46,  0.13],\n",
      "       [-0.46,  0.13],\n",
      "       [-0.46,  0.13],\n",
      "       ...,\n",
      "       [ 1.06,  0.03],\n",
      "       [ 0.42,  0.03],\n",
      "       [ 0.  ,  0.  ]]), {'fs': 360, 'sig_len': 650000, 'n_sig': 2, 'base_date': None, 'base_time': None, 'units': ['mV', 'mV'], 'sig_name': ['MLII', 'V1'], 'comments': ['24 F 1240 2851 x1', 'None', 'The variation in the rate of normal sinus rhythm is possibly due to a', 'wandering atrial pacemaker.']})\n",
      "Working with file: Data/114\n",
      "          1887\n",
      "(N\u0000          2\n",
      "(SVTA\u0000       1\n",
      "Name: 0, dtype: int64\n",
      "Record : (array([[-0.045,  0.015],\n",
      "       [-0.045,  0.015],\n",
      "       [-0.045,  0.015],\n",
      "       ...,\n",
      "       [-0.365, -0.215],\n",
      "       [-0.37 , -0.225],\n",
      "       [ 0.   ,  0.   ]]), {'fs': 360, 'sig_len': 650000, 'n_sig': 2, 'base_date': None, 'base_time': None, 'units': ['mV', 'mV'], 'sig_name': ['V5', 'MLII'], 'comments': ['72 F 750 1629 x1', 'Digoxin', 'The PVCs are uniform.']})\n",
      "Working with file: Data/115\n",
      "       1961\n",
      "(N\u0000       1\n",
      "Name: 0, dtype: int64\n"
     ]
    },
    {
     "name": "stderr",
     "output_type": "stream",
     "text": [
      "\n",
      "\n",
      " 31%|███▏      | 15/48 [00:01<00:02, 13.64it/s]\u001b[A\u001b[A\n",
      "\n",
      " 35%|███▌      | 17/48 [00:01<00:02, 13.81it/s]\u001b[A\u001b[A"
     ]
    },
    {
     "name": "stdout",
     "output_type": "stream",
     "text": [
      "Record : (array([[-0.58 , -0.335],\n",
      "       [-0.58 , -0.335],\n",
      "       [-0.58 , -0.335],\n",
      "       ...,\n",
      "       [-0.75 ,  0.24 ],\n",
      "       [-0.75 ,  0.24 ],\n",
      "       [-1.28 ,  0.   ]]), {'fs': 360, 'sig_len': 650000, 'n_sig': 2, 'base_date': None, 'base_time': None, 'units': ['mV', 'mV'], 'sig_name': ['MLII', 'V1'], 'comments': ['39 F 994 167 x2', 'None']})\n",
      "Working with file: Data/116\n",
      "       2420\n",
      "(N\u0000       1\n",
      "Name: 0, dtype: int64\n",
      "Record : (array([[-0.32 , -1.24 ],\n",
      "       [-0.32 , -1.24 ],\n",
      "       [-0.32 , -1.24 ],\n",
      "       ...,\n",
      "       [-0.975, -0.715],\n",
      "       [-0.96 , -0.715],\n",
      "       [-1.28 , -1.28 ]]), {'fs': 360, 'sig_len': 650000, 'n_sig': 2, 'base_date': None, 'base_time': None, 'units': ['mV', 'mV'], 'sig_name': ['MLII', 'V1'], 'comments': ['68 M 1453 1629 x2', 'None', 'There are two PVC forms.']})\n",
      "Working with file: Data/117\n",
      "       1538\n",
      "(N\u0000       1\n",
      "Name: 0, dtype: int64\n",
      "Record : (array([[-0.925, -0.47 ],\n",
      "       [-0.925, -0.47 ],\n",
      "       [-0.925, -0.47 ],\n",
      "       ...,\n",
      "       [-0.585, -0.225],\n",
      "       [-0.565, -0.245],\n",
      "       [ 0.   ,  0.   ]]), {'fs': 360, 'sig_len': 650000, 'n_sig': 2, 'base_date': None, 'base_time': None, 'units': ['mV', 'mV'], 'sig_name': ['MLII', 'V2'], 'comments': ['69 M 950 654 x2', 'None']})\n",
      "Working with file: Data/118\n",
      "       2300\n",
      "(N\u0000       1\n",
      "Name: 0, dtype: int64\n"
     ]
    },
    {
     "name": "stderr",
     "output_type": "stream",
     "text": [
      "\n",
      "\n",
      " 40%|███▉      | 19/48 [00:01<00:02, 13.79it/s]\u001b[A\u001b[A"
     ]
    },
    {
     "name": "stdout",
     "output_type": "stream",
     "text": [
      "Record : (array([[-0.835, -0.515],\n",
      "       [-0.835, -0.515],\n",
      "       [-0.835, -0.515],\n",
      "       ...,\n",
      "       [ 0.03 , -2.1  ],\n",
      "       [ 0.085, -2.14 ],\n",
      "       [ 0.   , -2.56 ]]), {'fs': 360, 'sig_len': 650000, 'n_sig': 2, 'base_date': None, 'base_time': None, 'units': ['mV', 'mV'], 'sig_name': ['MLII', 'V1'], 'comments': ['69 M 1456 653 x2', 'Digoxin, Norpace', 'The PVCs are multiform.']})\n",
      "Working with file: Data/119\n",
      "       1991\n",
      "(N\u0000      49\n",
      "(B\u0000      37\n",
      "(T\u0000      17\n",
      "Name: 0, dtype: int64\n",
      "Record : (array([[-0.995, -0.47 ],\n",
      "       [-0.995, -0.47 ],\n",
      "       [-0.995, -0.47 ],\n",
      "       ...,\n",
      "       [ 1.565, -1.825],\n",
      "       [ 1.525, -1.74 ],\n",
      "       [ 1.28 , -1.28 ]]), {'fs': 360, 'sig_len': 650000, 'n_sig': 2, 'base_date': None, 'base_time': None, 'units': ['mV', 'mV'], 'sig_name': ['MLII', 'V1'], 'comments': ['51 F 1129 654 x2', 'Pronestyl', 'The PVCs are uniform.']})\n",
      "Working with file: Data/121\n",
      "       1875\n",
      "(N\u0000       1\n",
      "Name: 0, dtype: int64\n",
      "Record : (array([[-0.875, -0.65 ],\n",
      "       [-0.875, -0.65 ],\n",
      "       [-0.875, -0.65 ],\n",
      "       ...,\n",
      "       [-0.86 , -0.695],\n",
      "       [-0.875, -0.665],\n",
      "       [-1.28 , -1.28 ]]), {'fs': 360, 'sig_len': 650000, 'n_sig': 2, 'base_date': None, 'base_time': None, 'units': ['mV', 'mV'], 'sig_name': ['MLII', 'V1'], 'comments': ['83 F 1245 167 x2', 'Digoxin, Isordil, Nitropaste']})\n",
      "Working with file: Data/122\n",
      "       2478\n",
      "(N\u0000       1\n",
      "Name: 0, dtype: int64\n",
      "Record : (array([[-0.78 , -0.735],\n",
      "       [-0.78 , -0.735],\n",
      "       [-0.78 , -0.735],\n",
      "       ...,\n",
      "       [-1.02 , -0.58 ],\n",
      "       [-1.04 , -0.585],\n",
      "       [-1.28 ,  0.   ]]), {'fs': 360, 'sig_len': 650000, 'n_sig': 2, 'base_date': None, 'base_time': None, 'units': ['mV', 'mV'], 'sig_name': ['MLII', 'V1'], 'comments': ['51 M 640 654 x2', 'Digoxin, Lasix, Pronestyl', 'The lower channel has low-amplitude high-frequency noise throughout.']})\n"
     ]
    },
    {
     "name": "stderr",
     "output_type": "stream",
     "text": [
      "\n",
      "\n",
      " 44%|████▍     | 21/48 [00:01<00:01, 13.86it/s]\u001b[A\u001b[A\n",
      "\n",
      " 48%|████▊     | 23/48 [00:01<00:01, 14.08it/s]\u001b[A\u001b[A"
     ]
    },
    {
     "name": "stdout",
     "output_type": "stream",
     "text": [
      "Working with file: Data/123\n",
      "       1518\n",
      "(N\u0000       1\n",
      "Name: 0, dtype: int64\n",
      "Record : (array([[-0.805, -0.455],\n",
      "       [-0.805, -0.455],\n",
      "       [-0.805, -0.455],\n",
      "       ...,\n",
      "       [-1.25 , -0.705],\n",
      "       [-1.225, -0.69 ],\n",
      "       [-1.28 , -1.28 ]]), {'fs': 360, 'sig_len': 650000, 'n_sig': 2, 'base_date': None, 'base_time': None, 'units': ['mV', 'mV'], 'sig_name': ['MLII', 'V5'], 'comments': ['63 F 1482 694 x2', 'Digoxin, Inderal', 'The PVCs are uniform and interpolated.']})\n",
      "Working with file: Data/124\n",
      "         1621\n",
      "(N\u0000         6\n",
      "(IVR\u0000       3\n",
      "(T\u0000         2\n",
      "(NOD\u0000       2\n",
      "Name: 0, dtype: int64\n",
      "Record : (array([[-1.   , -0.685],\n",
      "       [-1.   , -0.685],\n",
      "       [-1.   , -0.685],\n",
      "       ...,\n",
      "       [-0.72 , -0.585],\n",
      "       [-0.705, -0.57 ],\n",
      "       [-1.28 ,  0.   ]]), {'fs': 360, 'sig_len': 650000, 'n_sig': 2, 'base_date': None, 'base_time': None, 'units': ['mV', 'mV'], 'sig_name': ['MLII', 'V4'], 'comments': ['77 M 1199 653 x2', 'Digoxin, Isordil, Quinidine', 'The PVCs are multiform.  The junctional escape beats follow PVCs.']})\n",
      "Working with file: Data/200\n",
      "        2644\n",
      "(B\u0000       71\n",
      "(N\u0000       70\n",
      "(VT\u0000       7\n",
      "Name: 0, dtype: int64\n",
      "Record : (array([[ 0.35 ,  0.105],\n",
      "       [ 0.35 ,  0.105],\n",
      "       [ 0.35 ,  0.105],\n",
      "       ...,\n",
      "       [ 0.015, -0.27 ],\n",
      "       [ 0.015, -0.27 ],\n",
      "       [ 0.   ,  0.   ]]), {'fs': 360, 'sig_len': 650000, 'n_sig': 2, 'base_date': None, 'base_time': None, 'units': ['mV', 'mV'], 'sig_name': ['MLII', 'V1'], 'comments': ['64 M 1953 3655 x1', 'Digoxin, Quinidine', 'The PVCs are multiform.  There are occasional bursts of high-frequency', 'noise in the upper channel, and severe noise and artifact in the lower', 'channel.']})\n"
     ]
    },
    {
     "name": "stderr",
     "output_type": "stream",
     "text": [
      "\n",
      "\n",
      " 52%|█████▏    | 25/48 [00:01<00:01, 13.92it/s]\u001b[A\u001b[A"
     ]
    },
    {
     "name": "stdout",
     "output_type": "stream",
     "text": [
      "Working with file: Data/201\n",
      "          2004\n",
      "(N\u0000         15\n",
      "(T\u0000         12\n",
      "(AFIB\u0000       3\n",
      "(NOD\u0000        3\n",
      "(SVTA        1\n",
      "(N           1\n",
      "Name: 0, dtype: int64\n",
      "Record : (array([[-0.26 , -0.21 ],\n",
      "       [-0.26 , -0.21 ],\n",
      "       [-0.26 , -0.21 ],\n",
      "       ...,\n",
      "       [-0.17 , -0.055],\n",
      "       [-0.18 , -0.065],\n",
      "       [ 0.   ,  0.   ]]), {'fs': 360, 'sig_len': 650000, 'n_sig': 2, 'base_date': None, 'base_time': None, 'units': ['mV', 'mV'], 'sig_name': ['MLII', 'V1'], 'comments': ['68 M 1960 2851 x1', 'Digoxin, Hydrochlorthiazide, Inderal, KCl', 'The PVCs are uniform and late-cycle.  Junctional escape beats occur following', 'episodes of ventricular trigeminy.']})\n",
      "Working with file: Data/202\n",
      "          2138\n",
      "(AFIB\u0000       3\n",
      "(N\u0000          3\n",
      "(AFL         1\n",
      "(AFIB        1\n",
      "Name: 0, dtype: int64\n",
      "Record : (array([[ 0.   ,  0.125],\n",
      "       [ 0.   ,  0.125],\n",
      "       [ 0.   ,  0.125],\n",
      "       ...,\n",
      "       [-0.24 ,  0.1  ],\n",
      "       [-0.24 ,  0.11 ],\n",
      "       [ 0.   ,  0.   ]]), {'fs': 360, 'sig_len': 650000, 'n_sig': 2, 'base_date': None, 'base_time': None, 'units': ['mV', 'mV'], 'sig_name': ['MLII', 'V1'], 'comments': ['68 M 1960 2851 x1', 'Digoxin, Hydrochlorthiazide, Inderal, KCl', 'The PVCs are uniform and late-cycle.  This record was taken from the same', 'analog tape as record 201.']})\n",
      "Working with file: Data/203\n",
      "          3063\n",
      "(AFIB\u0000      21\n",
      "(VT\u0000        21\n",
      "(AFL\u0000        2\n",
      "(T\u0000          1\n",
      "Name: 0, dtype: int64\n",
      "Record : (array([[-0.26 ,  0.065],\n",
      "       [-0.26 ,  0.065],\n",
      "       [-0.26 ,  0.065],\n",
      "       ...,\n",
      "       [-0.55 ,  0.33 ],\n",
      "       [-0.52 ,  0.325],\n",
      "       [ 0.   ,  0.   ]]), {'fs': 360, 'sig_len': 650000, 'n_sig': 2, 'base_date': None, 'base_time': None, 'units': ['mV', 'mV'], 'sig_name': ['MLII', 'V1'], 'comments': ['43 M 1878 356 x1', 'Coumadin, Digoxin, Heparin, Hygroton, Lasix', 'The PVCs are multiform.  There are QRS morphology changes in the upper', 'channel due to axis shifts.  There is considerable noise in both channels,', 'including muscle artifact and baseline shifts.  This is a very difficult', 'record, even for humans!']})\n"
     ]
    },
    {
     "name": "stderr",
     "output_type": "stream",
     "text": [
      "\n",
      "\n",
      " 56%|█████▋    | 27/48 [00:01<00:01, 13.81it/s]\u001b[A\u001b[A\n",
      "\n",
      " 60%|██████    | 29/48 [00:02<00:01, 13.76it/s]\u001b[A\u001b[A"
     ]
    },
    {
     "name": "stdout",
     "output_type": "stream",
     "text": [
      "Working with file: Data/205\n",
      "        2659\n",
      "(N\u0000        7\n",
      "(VT\u0000       6\n",
      "Name: 0, dtype: int64\n",
      "Record : (array([[-0.43 , -0.54 ],\n",
      "       [-0.43 , -0.54 ],\n",
      "       [-0.43 , -0.54 ],\n",
      "       ...,\n",
      "       [-0.365, -0.365],\n",
      "       [-0.375, -0.38 ],\n",
      "       [ 0.   ,  0.   ]]), {'fs': 360, 'sig_len': 650000, 'n_sig': 2, 'base_date': None, 'base_time': None, 'units': ['mV', 'mV'], 'sig_name': ['MLII', 'V1'], 'comments': ['59 M 1957 694 x2', 'Digoxin, Quinaglute', 'The PVCs are of two forms, one of which is much more common than the other.']})\n",
      "Working with file: Data/207\n",
      "          2361\n",
      "(N\u0000         10\n",
      "(VFL\u0000        6\n",
      "(B\u0000          4\n",
      "(VT\u0000         2\n",
      "(IVR\u0000        1\n",
      "(SVTA\u0000       1\n",
      "Name: 0, dtype: int64\n",
      "Record : (array([[-0.215,  0.095],\n",
      "       [-0.215,  0.095],\n",
      "       [-0.215,  0.095],\n",
      "       ...,\n",
      "       [-1.19 , -0.465],\n",
      "       [-1.135, -0.4  ],\n",
      "       [-1.28 ,  0.   ]]), {'fs': 360, 'sig_len': 650000, 'n_sig': 2, 'base_date': None, 'base_time': None, 'units': ['mV', 'mV'], 'sig_name': ['MLII', 'V1'], 'comments': ['89 F 859 694 x1', 'Digoxin, Quinaglute', 'This is an extremely difficult record.  The predominant rhythm is normal', 'sinus with first degree AV block and left bundle branch block.  There are', 'periods when the conduction block changes to a right bundle branch block', 'pattern.  The PVCs are multiform.  Idioventricular rhythm appears following', 'the longest episode of ventricular flutter.  The record ends during the', 'episode of SVTA.']})\n",
      "Working with file: Data/208\n",
      "       2987\n",
      "(N\u0000      27\n",
      "(T\u0000      26\n",
      "Name: 0, dtype: int64"
     ]
    },
    {
     "name": "stderr",
     "output_type": "stream",
     "text": [
      "\n",
      "\n",
      " 65%|██████▍   | 31/48 [00:02<00:01, 13.45it/s]\u001b[A\u001b[A"
     ]
    },
    {
     "name": "stdout",
     "output_type": "stream",
     "text": [
      "\n",
      "Record : (array([[-0.105,  0.19 ],\n",
      "       [-0.105,  0.19 ],\n",
      "       [-0.105,  0.19 ],\n",
      "       ...,\n",
      "       [-0.17 , -0.1  ],\n",
      "       [-0.16 , -0.11 ],\n",
      "       [ 0.   ,  0.   ]]), {'fs': 360, 'sig_len': 650000, 'n_sig': 2, 'base_date': None, 'base_time': None, 'units': ['mV', 'mV'], 'sig_name': ['MLII', 'V1'], 'comments': ['23 F 2546 N/A x1', 'None', 'The PVCs are uniform.  The couplets, many of which include a fusion PVC, are', 'often seen in a bigeminal pattern.   The triplets each consist of two', 'PVCs and a fusion PVC.']})\n",
      "Working with file: Data/209\n",
      "          3031\n",
      "(N\u0000         11\n",
      "(SVTA\u0000      10\n",
      "Name: 0, dtype: int64\n",
      "Record : (array([[-0.02 ,  0.16 ],\n",
      "       [-0.02 ,  0.16 ],\n",
      "       [-0.02 ,  0.16 ],\n",
      "       ...,\n",
      "       [-0.265, -0.04 ],\n",
      "       [-0.28 , -0.04 ],\n",
      "       [ 0.   ,  0.   ]]), {'fs': 360, 'sig_len': 650000, 'n_sig': 2, 'base_date': None, 'base_time': None, 'units': ['mV', 'mV'], 'sig_name': ['MLII', 'V1'], 'comments': ['62 M 1202 654 x1', 'Aldomet, Hydrodiuril, Inderal']})\n",
      "Working with file: Data/210\n",
      "          2668\n",
      "(AFIB\u0000       9\n",
      "(B\u0000          5\n",
      "(VT\u0000         2\n",
      "(T\u0000          1\n",
      "Name: 0, dtype: int64\n"
     ]
    },
    {
     "name": "stderr",
     "output_type": "stream",
     "text": [
      "\n",
      "\n",
      " 69%|██████▉   | 33/48 [00:02<00:01, 13.35it/s]\u001b[A\u001b[A"
     ]
    },
    {
     "name": "stdout",
     "output_type": "stream",
     "text": [
      "Record : (array([[-0.065,  0.135],\n",
      "       [-0.065,  0.135],\n",
      "       [-0.065,  0.135],\n",
      "       ...,\n",
      "       [-0.305,  0.075],\n",
      "       [-0.3  ,  0.1  ],\n",
      "       [ 0.   ,  0.   ]]), {'fs': 360, 'sig_len': 650000, 'n_sig': 2, 'base_date': None, 'base_time': None, 'units': ['mV', 'mV'], 'sig_name': ['MLII', 'V1'], 'comments': ['89 M 2461 694 x1', 'None', 'The PVCs are multiform.']})\n",
      "Working with file: Data/212\n",
      "       2762\n",
      "(N\u0000       1\n",
      "Name: 0, dtype: int64\n",
      "Record : (array([[-0.5  ,  0.05 ],\n",
      "       [-0.5  ,  0.05 ],\n",
      "       [-0.5  ,  0.05 ],\n",
      "       ...,\n",
      "       [-0.34 ,  0.235],\n",
      "       [-0.33 ,  0.22 ],\n",
      "       [ 0.   ,  0.   ]]), {'fs': 360, 'sig_len': 650000, 'n_sig': 2, 'base_date': None, 'base_time': None, 'units': ['mV', 'mV'], 'sig_name': ['MLII', 'V1'], 'comments': ['32 F 2879 171 x1', 'None', 'There is rate-related right bundle branch block which appears when the heart', 'rate exceeds approximately 90 bpm.']})\n",
      "Working with file: Data/213\n",
      "        3251\n",
      "(N\u0000       22\n",
      "(B\u0000       19\n",
      "(VT\u0000       2\n",
      "Name: 0, dtype: int64\n",
      "Record : (array([[-0.01 , -0.615],\n",
      "       [-0.01 , -0.615],\n",
      "       [-0.01 , -0.615],\n",
      "       ...,\n",
      "       [ 1.135, -1.49 ],\n",
      "       [ 0.715, -1.345],\n",
      "       [ 1.28 , -1.28 ]]), {'fs': 360, 'sig_len': 650000, 'n_sig': 2, 'base_date': None, 'base_time': None, 'units': ['mV', 'mV'], 'sig_name': ['MLII', 'V1'], 'comments': ['61 M 2817 1629 x1', 'Digoxin', 'The PVCs are multiform and usually late-cycle, frequently resulting in', 'fusion PVCs.  The morphology of the fusion PVCs varies from almost normal', 'to almost identical to that of the PVCs.']})\n",
      "Working with file: Data/214\n"
     ]
    },
    {
     "name": "stderr",
     "output_type": "stream",
     "text": [
      "\n",
      "\n",
      " 73%|███████▎  | 35/48 [00:02<00:00, 13.29it/s]\u001b[A\u001b[A"
     ]
    },
    {
     "name": "stdout",
     "output_type": "stream",
     "text": [
      "        2271\n",
      "(N\u0000       13\n",
      "(T\u0000       10\n",
      "(VT\u0000       2\n",
      "TS\u0000        1\n",
      "Name: 0, dtype: int64\n",
      "Record : (array([[-0.095,  0.025],\n",
      "       [-0.095,  0.025],\n",
      "       [-0.095,  0.025],\n",
      "       ...,\n",
      "       [-0.32 ,  0.265],\n",
      "       [-0.285,  0.245],\n",
      "       [ 0.   ,  0.   ]]), {'fs': 360, 'sig_len': 650000, 'n_sig': 2, 'base_date': None, 'base_time': None, 'units': ['mV', 'mV'], 'sig_name': ['MLII', 'V1'], 'comments': ['53 M 3189 1629 x1', 'Digoxin, Dilantin', 'The PVCs are multiform.  There are two episodes of artifactual amplitude', 'decrease and one occurrence of tape slippage.']})\n",
      "Working with file: Data/215\n",
      "        3393\n",
      "(N\u0000        3\n",
      "(VT\u0000       2\n",
      "TS\u0000        2\n",
      "Name: 0, dtype: int64\n",
      "Record : (array([[ 0.22 ,  0.185],\n",
      "       [ 0.22 ,  0.185],\n",
      "       [ 0.22 ,  0.185],\n",
      "       ...,\n",
      "       [-0.285,  0.17 ],\n",
      "       [-0.28 ,  0.135],\n",
      "       [ 0.   ,  0.   ]]), {'fs': 360, 'sig_len': 650000, 'n_sig': 2, 'base_date': None, 'base_time': None, 'units': ['mV', 'mV'], 'sig_name': ['MLII', 'V1'], 'comments': ['81 M 2633 694 x1', 'None', 'The PVCs are multiform.  There are two very short occurrences of tape slippage', '(each less than one second in duration).']})\n",
      "Working with file: Data/217\n",
      "         2213\n",
      "(P\u0000        33\n",
      "(AFIB      24\n",
      "(B\u0000         9\n",
      "(VT\u0000        1\n",
      "Name: 0, dtype: int64\n",
      "Record : (array([[ 0.045, -0.76 ],\n",
      "       [ 0.045, -0.76 ],\n",
      "       [ 0.045, -0.76 ],\n",
      "       ...,\n",
      "       [-0.36 ,  0.14 ],\n",
      "       [-0.33 ,  0.16 ],\n",
      "       [ 0.   ,  0.   ]]), {'fs': 360, 'sig_len': 650000, 'n_sig': 2, 'base_date': None, 'base_time': None, 'units': ['mV', 'mV'], 'sig_name': ['MLII', 'V1'], 'comments': ['65 M 2450 653 x1', 'Digoxin, Lasix, Quinidine', 'The PVCs are multiform.']})\n"
     ]
    },
    {
     "name": "stderr",
     "output_type": "stream",
     "text": [
      "\n",
      "\n",
      " 77%|███████▋  | 37/48 [00:02<00:00, 13.17it/s]\u001b[A\u001b[A\n",
      "\n",
      " 81%|████████▏ | 39/48 [00:02<00:00, 13.16it/s]\u001b[A\u001b[A"
     ]
    },
    {
     "name": "stdout",
     "output_type": "stream",
     "text": [
      "Working with file: Data/219\n",
      "          2287\n",
      "(AFIB\u0000      10\n",
      "(N\u0000          8\n",
      "PSE\u0000         3\n",
      "(B\u0000          2\n",
      "(T\u0000          1\n",
      "MISSB\u0000       1\n",
      "Name: 0, dtype: int64\n",
      "Record : (array([[-0.695, -0.955],\n",
      "       [-0.695, -0.955],\n",
      "       [-0.695, -0.955],\n",
      "       ...,\n",
      "       [-0.89 , -0.555],\n",
      "       [-0.885, -0.55 ],\n",
      "       [-1.28 ,  0.   ]]), {'fs': 360, 'sig_len': 650000, 'n_sig': 2, 'base_date': None, 'base_time': None, 'units': ['mV', 'mV'], 'sig_name': ['MLII', 'V1'], 'comments': ['-1 M 978 654 x1', 'Digoxin', 'Following some conversions from atrial fibrillation to normal sinus', 'rhythm are pauses up to 3 seconds in duration.  The PVCs are multiform.']})\n",
      "Working with file: Data/220\n",
      "          2052\n",
      "(N\u0000          9\n",
      "(SVTA\u0000       8\n",
      "Name: 0, dtype: int64\n",
      "Record : (array([[-0.69 , -0.38 ],\n",
      "       [-0.69 , -0.38 ],\n",
      "       [-0.69 , -0.38 ],\n",
      "       ...,\n",
      "       [-0.16 , -0.17 ],\n",
      "       [-0.155, -0.18 ],\n",
      "       [ 0.   ,  0.   ]]), {'fs': 360, 'sig_len': 650000, 'n_sig': 2, 'base_date': None, 'base_time': None, 'units': ['mV', 'mV'], 'sig_name': ['MLII', 'V1'], 'comments': ['87 F 1543 654 x2', 'Digoxin']})\n",
      "Working with file: Data/221\n",
      "          2439\n",
      "(AFIB\u0000      12\n",
      "(T\u0000          8\n",
      "(VT\u0000         2\n",
      "(B\u0000          1\n",
      "Name: 0, dtype: int64\n"
     ]
    },
    {
     "name": "stderr",
     "output_type": "stream",
     "text": [
      "\n",
      "\n",
      " 85%|████████▌ | 41/48 [00:03<00:00, 13.12it/s]\u001b[A\u001b[A"
     ]
    },
    {
     "name": "stdout",
     "output_type": "stream",
     "text": [
      "Record : (array([[-0.285,  0.05 ],\n",
      "       [-0.285,  0.05 ],\n",
      "       [-0.285,  0.05 ],\n",
      "       ...,\n",
      "       [-0.235,  0.08 ],\n",
      "       [-0.245,  0.075],\n",
      "       [ 0.   ,  0.   ]]), {'fs': 360, 'sig_len': 650000, 'n_sig': 2, 'base_date': None, 'base_time': None, 'units': ['mV', 'mV'], 'sig_name': ['MLII', 'V1'], 'comments': ['83 M 1268 694 x1', 'Hydrochlorthiazide, Lasix', 'The PVCs are multiform, but one form is much more common than the others.']})\n",
      "Working with file: Data/222\n",
      "          2498\n",
      "(AFL        37\n",
      "(N\u0000         32\n",
      "(NOD\u0000       31\n",
      "(AFIB\u0000      16\n",
      "(AFIB        8\n",
      "(AFL\u0000        5\n",
      "(SVTA\u0000       4\n",
      "(AB\u0000         3\n",
      "Name: 0, dtype: int64\n",
      "Record : (array([[-0.14 , -0.375],\n",
      "       [-0.14 , -0.375],\n",
      "       [-0.14 , -0.375],\n",
      "       ...,\n",
      "       [-0.27 ,  0.17 ],\n",
      "       [-0.28 ,  0.18 ],\n",
      "       [ 0.   ,  0.   ]]), {'fs': 360, 'sig_len': 650000, 'n_sig': 2, 'base_date': None, 'base_time': None, 'units': ['mV', 'mV'], 'sig_name': ['MLII', 'V1'], 'comments': ['84 F 1633 1629 x1', 'Digoxin, Quinidine', 'The episodes of paroxysmal atrial flutter/fibrillation are usually', 'followed by nodal escape beats.  There are several intervals of', 'high-frequency noise/artifact in both channels.']})\n",
      "Working with file: Data/223\n",
      "        2615\n",
      "(N\u0000       11\n",
      "(B\u0000        7\n",
      "(VT\u0000       7\n",
      "(T\u0000        3\n",
      "Name: 0, dtype: int64\n",
      "Record : (array([[-0.93 , -0.16 ],\n",
      "       [-0.93 , -0.16 ],\n",
      "       [-0.93 , -0.16 ],\n",
      "       ...,\n",
      "       [-0.55 , -0.335],\n",
      "       [-0.555, -0.32 ],\n",
      "       [ 0.   ,  0.   ]]), {'fs': 360, 'sig_len': 650000, 'n_sig': 2, 'base_date': None, 'base_time': None, 'units': ['mV', 'mV'], 'sig_name': ['MLII', 'V1'], 'comments': ['73 M 3070 654 x2', 'None', 'The PVCs are multiform.  The two longest episodes of ventricular tachycardia', 'are slow (100 to 105 bpm) and bidirectional.']})\n",
      "Working with file: Data/228\n"
     ]
    },
    {
     "name": "stderr",
     "output_type": "stream",
     "text": [
      "\n",
      "\n",
      " 90%|████████▉ | 43/48 [00:03<00:00, 13.05it/s]\u001b[A\u001b[A"
     ]
    },
    {
     "name": "stdout",
     "output_type": "stream",
     "text": [
      "       2097\n",
      "(N\u0000      21\n",
      "(B\u0000      20\n",
      "TS\u0000       3\n",
      "Name: 0, dtype: int64\n",
      "Record : (array([[-0.155, -0.095],\n",
      "       [-0.155, -0.095],\n",
      "       [-0.155, -0.095],\n",
      "       ...,\n",
      "       [-0.29 , -0.11 ],\n",
      "       [-0.285, -0.115],\n",
      "       [ 0.   ,  0.   ]]), {'fs': 360, 'sig_len': 650000, 'n_sig': 2, 'base_date': None, 'base_time': None, 'units': ['mV', 'mV'], 'sig_name': ['MLII', 'V1'], 'comments': ['80 F 2775 1629 x1', 'Digoxin, Norpace', 'There is first degree AV block.  The PVCs are multiform.  There are', 'three short occurrences of tape slippage with a maximum duration of 2.2', 'seconds.']})\n",
      "Working with file: Data/230\n",
      "          2259\n",
      "(N\u0000        104\n",
      "(PREX\u0000     103\n",
      "Name: 0, dtype: int64\n",
      "Record : (array([[-0.38 , -0.285],\n",
      "       [-0.38 , -0.285],\n",
      "       [-0.38 , -0.285],\n",
      "       ...,\n",
      "       [-0.59 , -0.16 ],\n",
      "       [-0.59 , -0.145],\n",
      "       [ 0.   ,  0.   ]]), {'fs': 360, 'sig_len': 650000, 'n_sig': 2, 'base_date': None, 'base_time': None, 'units': ['mV', 'mV'], 'sig_name': ['MLII', 'V1'], 'comments': ['32 M 2992 3655 x2', 'Dilantin']})\n",
      "Working with file: Data/231\n",
      "          1573\n",
      "MISSB\u0000     427\n",
      "(N\u0000          6\n",
      "(BII\u0000        5\n",
      "Name: 0, dtype: int64\n",
      "Record : (array([[-0.2  ,  0.075],\n",
      "       [-0.2  ,  0.075],\n",
      "       [-0.2  ,  0.075],\n",
      "       ...,\n",
      "       [ 0.34 , -0.195],\n",
      "       [ 0.34 , -0.19 ],\n",
      "       [ 0.   ,  0.   ]]), {'fs': 360, 'sig_len': 650000, 'n_sig': 2, 'base_date': None, 'base_time': None, 'units': ['mV', 'mV'], 'sig_name': ['MLII', 'V1'], 'comments': ['72 F 2009 2851 x2', 'None', 'AV conduction is quite abnormal with periods of 2:1 AV block, examples', 'of Mobitz II block, and right bundle branch block which appears to be', 'rate-related.  The couplet is probably ventricular.']})\n"
     ]
    },
    {
     "name": "stderr",
     "output_type": "stream",
     "text": [
      "\n",
      "\n",
      " 94%|█████████▍| 45/48 [00:03<00:00, 13.01it/s]\u001b[A\u001b[A\n",
      "\n",
      " 98%|█████████▊| 47/48 [00:03<00:00, 12.98it/s]\u001b[A\u001b[A"
     ]
    },
    {
     "name": "stdout",
     "output_type": "stream",
     "text": [
      "Working with file: Data/232\n",
      "         1815\n",
      "(SBR\u0000       1\n",
      "Name: 0, dtype: int64\n",
      "Record : (array([[-0.245,  0.21 ],\n",
      "       [-0.245,  0.21 ],\n",
      "       [-0.245,  0.21 ],\n",
      "       ...,\n",
      "       [-0.07 ,  0.015],\n",
      "       [-0.075,  0.035],\n",
      "       [ 0.   ,  0.   ]]), {'fs': 360, 'sig_len': 650000, 'n_sig': 2, 'base_date': None, 'base_time': None, 'units': ['mV', 'mV'], 'sig_name': ['MLII', 'V1'], 'comments': ['76 F 2777 3655 x2', 'Aldomet, Inderal', 'The rhythm is compatible with sick sinus syndrome.  There is underlying', 'sinus bradycardia, first degree AV block, and frequent ectopic atrial runs', 'at rates of 80 to 90 bpm.  There are numerous long pauses up to 6 seconds', 'in duration.']})\n",
      "Working with file: Data/233\n",
      "        3081\n",
      "(N\u0000       36\n",
      "(B\u0000       28\n",
      "(VT\u0000       6\n",
      "(T\u0000        1\n",
      "Name: 0, dtype: int64\n",
      "Record : (array([[-0.095,  0.01 ],\n",
      "       [-0.095,  0.01 ],\n",
      "       [-0.095,  0.01 ],\n",
      "       ...,\n",
      "       [-0.495,  0.32 ],\n",
      "       [-0.49 ,  0.34 ],\n",
      "       [ 0.   ,  0.   ]]), {'fs': 360, 'sig_len': 650000, 'n_sig': 2, 'base_date': None, 'base_time': None, 'units': ['mV', 'mV'], 'sig_name': ['MLII', 'V1'], 'comments': ['57 M 1682 654 x2', 'Dilantin', 'The PVCs are multiform.']})\n",
      "Working with file: Data/234\n",
      "          2761\n",
      "(N\u0000          2\n",
      "(SVTA\u0000       1\n",
      "Name: 0, dtype: int64\n"
     ]
    },
    {
     "name": "stderr",
     "output_type": "stream",
     "text": [
      "\n",
      "\n",
      "100%|██████████| 48/48 [00:03<00:00, 12.95it/s]\u001b[A\u001b[A"
     ]
    },
    {
     "name": "stdout",
     "output_type": "stream",
     "text": [
      "Record : (array([[-0.08 ,  0.135],\n",
      "       [-0.08 ,  0.135],\n",
      "       [-0.08 ,  0.135],\n",
      "       ...,\n",
      "       [-0.395,  0.075],\n",
      "       [-0.38 ,  0.08 ],\n",
      "       [ 0.   ,  0.   ]]), {'fs': 360, 'sig_len': 650000, 'n_sig': 2, 'base_date': None, 'base_time': None, 'units': ['mV', 'mV'], 'sig_name': ['MLII', 'V1'], 'comments': ['56 F 1971 3655 x2', 'None', 'The PVCs are uniform.']})\n"
     ]
    }
   ],
   "source": [
    "# Prepare the final container\n",
    "base = pd.DataFrame()\n",
    "\n",
    "for path in tqdm(paths):\n",
    "    print('Working with file:', path)\n",
    "    ann = wf.rdann(path, 'atr')\n",
    "    print (pd.DataFrame(ann.aux_note)[0].value_counts())\n",
    "    record = wf.rdsamp(path)\n",
    "    print(\"Record :\",record)\n",
    "    # We want just the signals\n",
    "    data = record[0]\n",
    "    \n",
    "    # Prepare containers\n",
    "    signals, classes = [], []\n",
    "    # Beat extraction\n",
    "    for it, beat in enumerate(ann.symbol):#enumerate(ann.anntype)\n",
    "        if beat in beat_annotations:\n",
    "            # Defend from the dumb annotation hacking my folder structure\n",
    "            if beat == '/': beat = 'C'\n",
    "                \n",
    "            sta = ann.sample[it-1] - half_qrs\n",
    "            end = ann.sample[it-1] + half_qrs\n",
    "            qrs = data[sta : end, :]\n",
    "            # This may happen at the edges\n",
    "            if len(qrs) != 2 * half_qrs: continue\n",
    "            \n",
    "            # Keep the channel type in the class name\n",
    "            for ch in range(2):\n",
    "                beat_class = '{}_{}'.format(record[1]['sig_name'][ch], beat)\n",
    "                signals.append(qrs[:, ch])\n",
    "                classes.append(beat_class)\n",
    "                \n",
    "    new_frame = pd.DataFrame({'qrs_data' : signals,\n",
    "                              'qrs_type' : classes})\n",
    "    # Cumulate\n",
    "    base = base.append(new_frame)"
   ]
  },
  {
   "cell_type": "code",
   "execution_count": 81,
   "metadata": {},
   "outputs": [
    {
     "name": "stdout",
     "output_type": "stream",
     "text": [
      "2761\n"
     ]
    }
   ],
   "source": [
    "a= pd.DataFrame(ann.aux_note)[0].value_counts()\n",
    "print(a[0])"
   ]
  },
  {
   "cell_type": "code",
   "execution_count": 82,
   "metadata": {},
   "outputs": [],
   "source": [
    "#a[0].value_counts()"
   ]
  },
  {
   "cell_type": "code",
   "execution_count": 83,
   "metadata": {},
   "outputs": [
    {
     "name": "stdout",
     "output_type": "stream",
     "text": [
      "MLII_N    74747\n",
      "V1_N      65564\n",
      "MLII_L     8070\n",
      "V1_L       8070\n",
      "MLII_R     7252\n",
      "MLII_V     7120\n",
      "V1_V       7026\n",
      "V5_N       5831\n",
      "V1_R       5722\n",
      "Name: qrs_type, dtype: int64 (9,)\n"
     ]
    }
   ],
   "source": [
    "classes = base['qrs_type'].value_counts()\n",
    "ids = classes.iloc[:] > 5000\n",
    "classes = classes.loc[ids]\n",
    "\n",
    "# Show just the top ten\n",
    "print (classes, classes.shape)"
   ]
  },
  {
   "cell_type": "code",
   "execution_count": 84,
   "metadata": {},
   "outputs": [
    {
     "data": {
      "text/plain": [
       "MLII_N    74747\n",
       "V1_N      65564\n",
       "MLII_L     8070\n",
       "V1_L       8070\n",
       "MLII_R     7252\n",
       "MLII_V     7120\n",
       "V1_V       7026\n",
       "V5_N       5831\n",
       "V1_R       5722\n",
       "Name: qrs_type, dtype: int64"
      ]
     },
     "execution_count": 84,
     "metadata": {},
     "output_type": "execute_result"
    }
   ],
   "source": [
    "classes"
   ]
  },
  {
   "cell_type": "code",
   "execution_count": 85,
   "metadata": {},
   "outputs": [
    {
     "data": {
      "text/plain": [
       "array(['MLII_N', 'V5_N', 'MLII_A', 'V5_A', 'MLII_V', 'V5_V', 'V1_N',\n",
       "       'MLII_Q', 'V1_Q', 'V1_A', 'V5_C', 'V2_C', 'V5_f', 'V2_f', 'V2_N',\n",
       "       'V2_V', 'V2_A', 'V5_Q', 'V2_Q', 'V1_V', 'MLII_C', 'V1_C', 'MLII_F',\n",
       "       'V1_F', 'MLII_j', 'V1_j', 'MLII_L', 'V1_L', 'MLII_a', 'V1_a',\n",
       "       'V5_J', 'MLII_J', 'V5_F', 'MLII_R', 'V1_R', 'V4_R', 'V4_J', 'V4_V',\n",
       "       'V4_F', 'V4_A', 'V4_j', 'V1_J', 'MLII_E', 'V1_E', 'MLII_S', 'V1_S',\n",
       "       'MLII_f', 'V1_f', 'MLII_e', 'V1_e'], dtype=object)"
      ]
     },
     "execution_count": 85,
     "metadata": {},
     "output_type": "execute_result"
    }
   ],
   "source": [
    "base.qrs_type.unique()"
   ]
  },
  {
   "cell_type": "code",
   "execution_count": 86,
   "metadata": {},
   "outputs": [],
   "source": [
    "# Extract just one exemplary qrs\n",
    "\n",
    "\n",
    "def get_class(ind):\n",
    "    classes_index = classes.index\n",
    "    qrs_type = classes_index[ind]\n",
    "    ids = base['qrs_type'] == qrs_type\n",
    "    partial = base.loc[ids]\n",
    "    return partial, qrs_type"
   ]
  },
  {
   "cell_type": "code",
   "execution_count": 87,
   "metadata": {},
   "outputs": [],
   "source": [
    "def rec_plot(s, eps=None, steps=None):\n",
    "    if eps==None: eps=.01\n",
    "    if steps==None: steps=10\n",
    "    N = s.size\n",
    "    S = np.repeat(s[None,:], N, axis=0)\n",
    "    Z = np.floor(np.abs(S-S.T)/eps)\n",
    "    Z[Z>steps] = steps\n",
    "    return Z"
   ]
  },
  {
   "cell_type": "code",
   "execution_count": 92,
   "metadata": {},
   "outputs": [
    {
     "name": "stdout",
     "output_type": "stream",
     "text": [
      "qrs_data    [-0.26, -0.265, -0.27, -0.265, -0.26, -0.275, ...\n",
      "qrs_type                                               MLII_N\n",
      "Name: 0, dtype: object\n"
     ]
    },
    {
     "data": {
      "image/png": "[encoded data removed]",
      "text/plain": [
       "<matplotlib.figure.Figure at 0x7fb813929588>"
      ]
     },
     "metadata": {},
     "output_type": "display_data"
    },
    {
     "name": "stdout",
     "output_type": "stream",
     "text": [
      "qrs_data    [-0.15, -0.17, -0.175, -0.175, -0.16, -0.15, -...\n",
      "qrs_type                                                 V1_N\n",
      "Name: 3, dtype: object\n"
     ]
    },
    {
     "data": {
      "image/png": "[encoded data removed]",
      "text/plain": [
       "<matplotlib.figure.Figure at 0x7fb81343aef0>"
      ]
     },
     "metadata": {},
     "output_type": "display_data"
    },
    {
     "name": "stdout",
     "output_type": "stream",
     "text": [
      "qrs_data    [-0.835, -0.855, -0.865, -0.88, -0.88, -0.87, ...\n",
      "qrs_type                                               MLII_L\n",
      "Name: 4, dtype: object\n"
     ]
    },
    {
     "data": {
      "image/png": "[encoded data removed]",
      "text/plain": [
       "<matplotlib.figure.Figure at 0x7fb8138bb630>"
      ]
     },
     "metadata": {},
     "output_type": "display_data"
    },
    {
     "name": "stdout",
     "output_type": "stream",
     "text": [
      "qrs_data    [-0.215, -0.21, -0.21, -0.215, -0.22, -0.24, -...\n",
      "qrs_type                                                 V1_L\n",
      "Name: 7, dtype: object\n"
     ]
    },
    {
     "data": {
      "image/png": "[encoded data removed]",
      "text/plain": [
       "<matplotlib.figure.Figure at 0x7fb81383d6a0>"
      ]
     },
     "metadata": {},
     "output_type": "display_data"
    },
    {
     "name": "stdout",
     "output_type": "stream",
     "text": [
      "qrs_data    [-0.885, -0.9, -0.905, -0.89, -0.9, -0.905, -0...\n",
      "qrs_type                                               MLII_R\n",
      "Name: 8, dtype: object\n"
     ]
    },
    {
     "data": {
      "image/png": "[encoded data removed]",
      "text/plain": [
       "<matplotlib.figure.Figure at 0x7fb8138e5320>"
      ]
     },
     "metadata": {},
     "output_type": "display_data"
    },
    {
     "name": "stdout",
     "output_type": "stream",
     "text": [
      "qrs_data    [-0.18, -0.18, -0.17, -0.195, -0.24, -0.25, -0...\n",
      "qrs_type                                               MLII_V\n",
      "Name: 188, dtype: object\n"
     ]
    },
    {
     "data": {
      "image/png": "[encoded data removed]",
      "text/plain": [
       "<matplotlib.figure.Figure at 0x7fb813422940>"
      ]
     },
     "metadata": {},
     "output_type": "display_data"
    },
    {
     "name": "stdout",
     "output_type": "stream",
     "text": [
      "qrs_data    [0.13, 0.115, 0.12, 0.125, 0.13, 0.125, 0.135,...\n",
      "qrs_type                                                 V1_V\n",
      "Name: 351, dtype: object\n"
     ]
    },
    {
     "data": {
      "image/png": "[encoded data removed]",
      "text/plain": [
       "<matplotlib.figure.Figure at 0x7fb812ffba58>"
      ]
     },
     "metadata": {},
     "output_type": "display_data"
    },
    {
     "name": "stdout",
     "output_type": "stream",
     "text": [
      "qrs_data    [-0.185, -0.18, -0.185, -0.19, -0.205, -0.195,...\n",
      "qrs_type                                                 V5_N\n",
      "Name: 17, dtype: object\n"
     ]
    },
    {
     "data": {
      "image/png": "[encoded data removed]",
      "text/plain": [
       "<matplotlib.figure.Figure at 0x7fb812f123c8>"
      ]
     },
     "metadata": {},
     "output_type": "display_data"
    },
    {
     "name": "stdout",
     "output_type": "stream",
     "text": [
      "qrs_data    [-0.53, -0.535, -0.515, -0.47, -0.475, -0.47, ...\n",
      "qrs_type                                                 V1_R\n",
      "Name: 17, dtype: object\n"
     ]
    },
    {
     "data": {
      "image/png": "[encoded data removed]",
      "text/plain": [
       "<matplotlib.figure.Figure at 0x7fb812fedd68>"
      ]
     },
     "metadata": {},
     "output_type": "display_data"
    },
    {
     "ename": "IndexError",
     "evalue": "index 9 is out of bounds for axis 0 with size 9",
     "output_type": "error",
     "traceback": [
      "\u001b[0;31m---------------------------------------------------------------------------\u001b[0m",
      "\u001b[0;31mIndexError\u001b[0m                                Traceback (most recent call last)",
      "\u001b[0;32m<ipython-input-92-e841e2ac177f>\u001b[0m in \u001b[0;36m<module>\u001b[0;34m()\u001b[0m\n\u001b[1;32m      1\u001b[0m \u001b[0;32mfor\u001b[0m \u001b[0mi\u001b[0m \u001b[0;32min\u001b[0m \u001b[0mrange\u001b[0m\u001b[0;34m(\u001b[0m\u001b[0;36m100\u001b[0m\u001b[0;34m)\u001b[0m\u001b[0;34m:\u001b[0m\u001b[0;34m\u001b[0m\u001b[0m\n\u001b[0;32m----> 2\u001b[0;31m     \u001b[0mpartial\u001b[0m\u001b[0;34m,\u001b[0m \u001b[0mqrs_type\u001b[0m \u001b[0;34m=\u001b[0m \u001b[0mget_class\u001b[0m\u001b[0;34m(\u001b[0m\u001b[0mi\u001b[0m\u001b[0;34m)\u001b[0m\u001b[0;34m\u001b[0m\u001b[0m\n\u001b[0m\u001b[1;32m      3\u001b[0m     \u001b[0mqrs\u001b[0m \u001b[0;34m=\u001b[0m \u001b[0mpartial\u001b[0m\u001b[0;34m.\u001b[0m\u001b[0miloc\u001b[0m\u001b[0;34m[\u001b[0m\u001b[0mi\u001b[0m\u001b[0;34m]\u001b[0m\u001b[0;34m[\u001b[0m\u001b[0;34m'qrs_data'\u001b[0m\u001b[0;34m]\u001b[0m\u001b[0;34m\u001b[0m\u001b[0m\n\u001b[1;32m      4\u001b[0m     \u001b[0mprint\u001b[0m\u001b[0;34m(\u001b[0m\u001b[0mpartial\u001b[0m\u001b[0;34m.\u001b[0m\u001b[0miloc\u001b[0m\u001b[0;34m[\u001b[0m\u001b[0mi\u001b[0m\u001b[0;34m]\u001b[0m\u001b[0;34m)\u001b[0m\u001b[0;34m\u001b[0m\u001b[0m\n\u001b[1;32m      5\u001b[0m     \u001b[0mplt\u001b[0m\u001b[0;34m.\u001b[0m\u001b[0mplot\u001b[0m\u001b[0;34m(\u001b[0m\u001b[0mqrs\u001b[0m\u001b[0;34m)\u001b[0m\u001b[0;34m\u001b[0m\u001b[0m\n",
      "\u001b[0;32m<ipython-input-86-eb95245805fc>\u001b[0m in \u001b[0;36mget_class\u001b[0;34m(ind)\u001b[0m\n\u001b[1;32m      4\u001b[0m \u001b[0;32mdef\u001b[0m \u001b[0mget_class\u001b[0m\u001b[0;34m(\u001b[0m\u001b[0mind\u001b[0m\u001b[0;34m)\u001b[0m\u001b[0;34m:\u001b[0m\u001b[0;34m\u001b[0m\u001b[0m\n\u001b[1;32m      5\u001b[0m     \u001b[0mclasses_index\u001b[0m \u001b[0;34m=\u001b[0m \u001b[0mclasses\u001b[0m\u001b[0;34m.\u001b[0m\u001b[0mindex\u001b[0m\u001b[0;34m\u001b[0m\u001b[0m\n\u001b[0;32m----> 6\u001b[0;31m     \u001b[0mqrs_type\u001b[0m \u001b[0;34m=\u001b[0m \u001b[0mclasses_index\u001b[0m\u001b[0;34m[\u001b[0m\u001b[0mind\u001b[0m\u001b[0;34m]\u001b[0m\u001b[0;34m\u001b[0m\u001b[0m\n\u001b[0m\u001b[1;32m      7\u001b[0m     \u001b[0mids\u001b[0m \u001b[0;34m=\u001b[0m \u001b[0mbase\u001b[0m\u001b[0;34m[\u001b[0m\u001b[0;34m'qrs_type'\u001b[0m\u001b[0;34m]\u001b[0m \u001b[0;34m==\u001b[0m \u001b[0mqrs_type\u001b[0m\u001b[0;34m\u001b[0m\u001b[0m\n\u001b[1;32m      8\u001b[0m     \u001b[0mpartial\u001b[0m \u001b[0;34m=\u001b[0m \u001b[0mbase\u001b[0m\u001b[0;34m.\u001b[0m\u001b[0mloc\u001b[0m\u001b[0;34m[\u001b[0m\u001b[0mids\u001b[0m\u001b[0;34m]\u001b[0m\u001b[0;34m\u001b[0m\u001b[0m\n",
      "\u001b[0;32m~/anaconda3/lib/python3.6/site-packages/pandas/core/indexes/base.py\u001b[0m in \u001b[0;36m__getitem__\u001b[0;34m(self, key)\u001b[0m\n\u001b[1;32m   1741\u001b[0m                     \u001b[0;32melse\u001b[0m\u001b[0;34m:\u001b[0m\u001b[0;34m\u001b[0m\u001b[0m\n\u001b[1;32m   1742\u001b[0m                         \u001b[0mindexer\u001b[0m \u001b[0;34m=\u001b[0m \u001b[0mkey\u001b[0m\u001b[0;34m\u001b[0m\u001b[0m\n\u001b[0;32m-> 1743\u001b[0;31m                 \u001b[0;32melse\u001b[0m\u001b[0;34m:\u001b[0m\u001b[0;34m\u001b[0m\u001b[0m\n\u001b[0m\u001b[1;32m   1744\u001b[0m                     \u001b[0;32mraise\u001b[0m\u001b[0;34m\u001b[0m\u001b[0m\n\u001b[1;32m   1745\u001b[0m \u001b[0;34m\u001b[0m\u001b[0m\n",
      "\u001b[0;31mIndexError\u001b[0m: index 9 is out of bounds for axis 0 with size 9"
     ]
    },
    {
     "data": {
      "image/png": "[encoded data removed]",
      "text/plain": [
       "<matplotlib.figure.Figure at 0x7fb812ebf5c0>"
      ]
     },
     "metadata": {},
     "output_type": "display_data"
    }
   ],
   "source": [
    "for i in range(100):\n",
    "    partial, qrs_type = get_class(i)\n",
    "    qrs = partial.iloc[i]['qrs_data']\n",
    "    print(partial.iloc[i])\n",
    "    plt.plot(qrs)\n",
    "    plt.show()\n",
    "    #plt.imshow(rec_plot(qrs))\n",
    "    plt.title('QRS of type: {}'.format(qrs_type))"
   ]
  },
  {
   "cell_type": "code",
   "execution_count": 93,
   "metadata": {},
   "outputs": [],
   "source": [
    "base_new= base[base['qrs_type'].isin(list(classes.index))]"
   ]
  },
  {
   "cell_type": "code",
   "execution_count": 94,
   "metadata": {},
   "outputs": [
    {
     "data": {
      "text/plain": [
       "(9,)"
      ]
     },
     "execution_count": 94,
     "metadata": {},
     "output_type": "execute_result"
    }
   ],
   "source": [
    "base_new.qrs_type.unique().shape"
   ]
  },
  {
   "cell_type": "code",
   "execution_count": 95,
   "metadata": {},
   "outputs": [],
   "source": [
    "X= np.vstack(list(base_new['qrs_data']))"
   ]
  },
  {
   "cell_type": "code",
   "execution_count": 96,
   "metadata": {},
   "outputs": [],
   "source": [
    "Y= np.array(base_new['qrs_type'])"
   ]
  },
  {
   "cell_type": "code",
   "execution_count": 97,
   "metadata": {},
   "outputs": [],
   "source": [
    "from sklearn.preprocessing import LabelEncoder\n",
    "le= LabelEncoder()\n",
    "Y= le.fit_transform(Y)\n",
    "from keras.utils.np_utils import to_categorical\n",
    "Y = to_categorical(Y)"
   ]
  },
  {
   "cell_type": "code",
   "execution_count": 98,
   "metadata": {},
   "outputs": [],
   "source": [
    "X = X[:,:,np.newaxis]"
   ]
  },
  {
   "cell_type": "code",
   "execution_count": 99,
   "metadata": {},
   "outputs": [],
   "source": [
    "# simple cross-validation.(k-fold cross validation not used because of lot of time being taken for training k*timenow)\n",
    "from sklearn.model_selection import train_test_split\n",
    "x_train, x_test, y_train, y_test = train_test_split(X, Y, test_size=0.10, random_state=531)"
   ]
  },
  {
   "cell_type": "code",
   "execution_count": 100,
   "metadata": {},
   "outputs": [],
   "source": [
    "# model = Sequential()\n",
    "# model.add(Dense(32, activation='relu', input_dim=300))\n",
    "# model.add(Dense(1, activation='sigmoid'))\n",
    "# model.compile(optimizer='rmsprop',\n",
    "#               loss='binary_crossentropy',\n",
    "#               metrics=['accuracy'])"
   ]
  },
  {
   "cell_type": "code",
   "execution_count": 101,
   "metadata": {},
   "outputs": [
    {
     "data": {
      "text/plain": [
       "(300, 1)"
      ]
     },
     "execution_count": 101,
     "metadata": {},
     "output_type": "execute_result"
    }
   ],
   "source": [
    "x_train.shape[1:]"
   ]
  },
  {
   "cell_type": "code",
   "execution_count": 102,
   "metadata": {},
   "outputs": [],
   "source": [
    "model = Sequential()\n",
    "model.add(Conv1D(filters=2, kernel_size=14, activation='relu', input_shape=x_train.shape[1:]))\n",
    "model.add(MaxPool1D(strides=1))\n",
    "model.add(BatchNormalization())\n",
    "model.add(Conv1D(filters=4, kernel_size=7, activation='relu'))\n",
    "model.add(MaxPool1D(strides=1))\n",
    "model.add(BatchNormalization())\n",
    "model.add(Conv1D(filters=8, kernel_size=7, activation='relu'))\n",
    "model.add(MaxPool1D(strides=1))\n",
    "model.add(Flatten())\n",
    "model.add(Dense(64, activation='relu'))\n",
    "model.add(Dropout(0.25))\n",
    "model.add(Dense(64, activation='relu'))\n",
    "model.add(Dense(21,  activation='sigmoid'))"
   ]
  },
  {
   "cell_type": "code",
   "execution_count": 70,
   "metadata": {},
   "outputs": [
    {
     "ename": "ValueError",
     "evalue": "Error when checking target: expected dense_3 to have shape (21,) but got array with shape (9,)",
     "output_type": "error",
     "traceback": [
      "\u001b[0;31m---------------------------------------------------------------------------\u001b[0m",
      "\u001b[0;31mValueError\u001b[0m                                Traceback (most recent call last)",
      "\u001b[0;32m<ipython-input-70-373de72cb081>\u001b[0m in \u001b[0;36m<module>\u001b[0;34m()\u001b[0m\n\u001b[1;32m      2\u001b[0m hist = model.fit(x_train, y_train, 128, \n\u001b[1;32m      3\u001b[0m                            \u001b[0mvalidation_data\u001b[0m\u001b[0;34m=\u001b[0m\u001b[0;34m(\u001b[0m\u001b[0mx_test\u001b[0m\u001b[0;34m,\u001b[0m \u001b[0my_test\u001b[0m\u001b[0;34m)\u001b[0m\u001b[0;34m,\u001b[0m\u001b[0;34m\u001b[0m\u001b[0m\n\u001b[0;32m----> 4\u001b[0;31m                            verbose=1, epochs=2)\n\u001b[0m",
      "\u001b[0;32m~/anaconda3/lib/python3.6/site-packages/keras/models.py\u001b[0m in \u001b[0;36mfit\u001b[0;34m(self, x, y, batch_size, epochs, verbose, callbacks, validation_split, validation_data, shuffle, class_weight, sample_weight, initial_epoch, steps_per_epoch, validation_steps, **kwargs)\u001b[0m\n\u001b[1;32m    961\u001b[0m                               \u001b[0minitial_epoch\u001b[0m\u001b[0;34m=\u001b[0m\u001b[0minitial_epoch\u001b[0m\u001b[0;34m,\u001b[0m\u001b[0;34m\u001b[0m\u001b[0m\n\u001b[1;32m    962\u001b[0m                               \u001b[0msteps_per_epoch\u001b[0m\u001b[0;34m=\u001b[0m\u001b[0msteps_per_epoch\u001b[0m\u001b[0;34m,\u001b[0m\u001b[0;34m\u001b[0m\u001b[0m\n\u001b[0;32m--> 963\u001b[0;31m                               validation_steps=validation_steps)\n\u001b[0m\u001b[1;32m    964\u001b[0m \u001b[0;34m\u001b[0m\u001b[0m\n\u001b[1;32m    965\u001b[0m     def evaluate(self, x=None, y=None,\n",
      "\u001b[0;32m~/anaconda3/lib/python3.6/site-packages/keras/engine/training.py\u001b[0m in \u001b[0;36mfit\u001b[0;34m(self, x, y, batch_size, epochs, verbose, callbacks, validation_split, validation_data, shuffle, class_weight, sample_weight, initial_epoch, steps_per_epoch, validation_steps, **kwargs)\u001b[0m\n\u001b[1;32m   1628\u001b[0m             \u001b[0msample_weight\u001b[0m\u001b[0;34m=\u001b[0m\u001b[0msample_weight\u001b[0m\u001b[0;34m,\u001b[0m\u001b[0;34m\u001b[0m\u001b[0m\n\u001b[1;32m   1629\u001b[0m             \u001b[0mclass_weight\u001b[0m\u001b[0;34m=\u001b[0m\u001b[0mclass_weight\u001b[0m\u001b[0;34m,\u001b[0m\u001b[0;34m\u001b[0m\u001b[0m\n\u001b[0;32m-> 1630\u001b[0;31m             batch_size=batch_size)\n\u001b[0m\u001b[1;32m   1631\u001b[0m         \u001b[0;31m# Prepare validation data.\u001b[0m\u001b[0;34m\u001b[0m\u001b[0;34m\u001b[0m\u001b[0m\n\u001b[1;32m   1632\u001b[0m         \u001b[0mdo_validation\u001b[0m \u001b[0;34m=\u001b[0m \u001b[0;32mFalse\u001b[0m\u001b[0;34m\u001b[0m\u001b[0m\n",
      "\u001b[0;32m~/anaconda3/lib/python3.6/site-packages/keras/engine/training.py\u001b[0m in \u001b[0;36m_standardize_user_data\u001b[0;34m(self, x, y, sample_weight, class_weight, check_array_lengths, batch_size)\u001b[0m\n\u001b[1;32m   1478\u001b[0m                                     \u001b[0moutput_shapes\u001b[0m\u001b[0;34m,\u001b[0m\u001b[0;34m\u001b[0m\u001b[0m\n\u001b[1;32m   1479\u001b[0m                                     \u001b[0mcheck_batch_axis\u001b[0m\u001b[0;34m=\u001b[0m\u001b[0;32mFalse\u001b[0m\u001b[0;34m,\u001b[0m\u001b[0;34m\u001b[0m\u001b[0m\n\u001b[0;32m-> 1480\u001b[0;31m                                     exception_prefix='target')\n\u001b[0m\u001b[1;32m   1481\u001b[0m         sample_weights = _standardize_sample_weights(sample_weight,\n\u001b[1;32m   1482\u001b[0m                                                      self._feed_output_names)\n",
      "\u001b[0;32m~/anaconda3/lib/python3.6/site-packages/keras/engine/training.py\u001b[0m in \u001b[0;36m_standardize_input_data\u001b[0;34m(data, names, shapes, check_batch_axis, exception_prefix)\u001b[0m\n\u001b[1;32m    121\u001b[0m                             \u001b[0;34m': expected '\u001b[0m \u001b[0;34m+\u001b[0m \u001b[0mnames\u001b[0m\u001b[0;34m[\u001b[0m\u001b[0mi\u001b[0m\u001b[0;34m]\u001b[0m \u001b[0;34m+\u001b[0m \u001b[0;34m' to have shape '\u001b[0m \u001b[0;34m+\u001b[0m\u001b[0;34m\u001b[0m\u001b[0m\n\u001b[1;32m    122\u001b[0m                             \u001b[0mstr\u001b[0m\u001b[0;34m(\u001b[0m\u001b[0mshape\u001b[0m\u001b[0;34m)\u001b[0m \u001b[0;34m+\u001b[0m \u001b[0;34m' but got array with shape '\u001b[0m \u001b[0;34m+\u001b[0m\u001b[0;34m\u001b[0m\u001b[0m\n\u001b[0;32m--> 123\u001b[0;31m                             str(data_shape))\n\u001b[0m\u001b[1;32m    124\u001b[0m     \u001b[0;32mreturn\u001b[0m \u001b[0mdata\u001b[0m\u001b[0;34m\u001b[0m\u001b[0m\n\u001b[1;32m    125\u001b[0m \u001b[0;34m\u001b[0m\u001b[0m\n",
      "\u001b[0;31mValueError\u001b[0m: Error when checking target: expected dense_3 to have shape (21,) but got array with shape (9,)"
     ]
    }
   ],
   "source": [
    "model.compile(optimizer=Adam(4e-5), loss = 'categorical_crossentropy', metrics=['accuracy'])\n",
    "hist = model.fit(x_train, y_train, 128, \n",
    "                           validation_data=(x_test, y_test), \n",
    "                           verbose=1, epochs=2)"
   ]
  },
  {
   "cell_type": "code",
   "execution_count": 103,
   "metadata": {},
   "outputs": [
    {
     "ename": "RuntimeError",
     "evalue": "The model needs to be compiled before being used.",
     "output_type": "error",
     "traceback": [
      "\u001b[0;31m---------------------------------------------------------------------------\u001b[0m",
      "\u001b[0;31mRuntimeError\u001b[0m                              Traceback (most recent call last)",
      "\u001b[0;32m<ipython-input-103-2ae637afbff2>\u001b[0m in \u001b[0;36m<module>\u001b[0;34m()\u001b[0m\n\u001b[1;32m      1\u001b[0m hist = model.fit(x_train, y_train, 128, \n\u001b[1;32m      2\u001b[0m                            \u001b[0mvalidation_data\u001b[0m\u001b[0;34m=\u001b[0m\u001b[0;34m(\u001b[0m\u001b[0mx_test\u001b[0m\u001b[0;34m,\u001b[0m \u001b[0my_test\u001b[0m\u001b[0;34m)\u001b[0m\u001b[0;34m,\u001b[0m\u001b[0;34m\u001b[0m\u001b[0m\n\u001b[0;32m----> 3\u001b[0;31m                            verbose=1, epochs=10)\n\u001b[0m",
      "\u001b[0;32m~/anaconda3/lib/python3.6/site-packages/keras/models.py\u001b[0m in \u001b[0;36mfit\u001b[0;34m(self, x, y, batch_size, epochs, verbose, callbacks, validation_split, validation_data, shuffle, class_weight, sample_weight, initial_epoch, steps_per_epoch, validation_steps, **kwargs)\u001b[0m\n\u001b[1;32m    947\u001b[0m \u001b[0;34m\u001b[0m\u001b[0m\n\u001b[1;32m    948\u001b[0m         \u001b[0;32mif\u001b[0m \u001b[0;32mnot\u001b[0m \u001b[0mself\u001b[0m\u001b[0;34m.\u001b[0m\u001b[0mbuilt\u001b[0m\u001b[0;34m:\u001b[0m\u001b[0;34m\u001b[0m\u001b[0m\n\u001b[0;32m--> 949\u001b[0;31m             raise RuntimeError('The model needs to be compiled '\n\u001b[0m\u001b[1;32m    950\u001b[0m                                'before being used.')\n\u001b[1;32m    951\u001b[0m         return self.model.fit(x, y,\n",
      "\u001b[0;31mRuntimeError\u001b[0m: The model needs to be compiled before being used."
     ]
    }
   ],
   "source": [
    "hist = model.fit(x_train, y_train, 128, \n",
    "                           validation_data=(x_test, y_test), \n",
    "                           verbose=1, epochs=10)"
   ]
  },
  {
   "cell_type": "code",
   "execution_count": 108,
   "metadata": {},
   "outputs": [
    {
     "data": {
      "image/png": "[encoded data removed]",
      "text/plain": [
       "<matplotlib.figure.Figure at 0x1dab276d160>"
      ]
     },
     "metadata": {},
     "output_type": "display_data"
    },
    {
     "data": {
      "image/png": "[encoded data removed]",
      "text/plain": [
       "<matplotlib.figure.Figure at 0x1dab3bbb6a0>"
      ]
     },
     "metadata": {},
     "output_type": "display_data"
    }
   ],
   "source": [
    "plt.plot(hist.history['loss'], color='b')\n",
    "plt.plot(hist.history['val_loss'], color='r')\n",
    "plt.show()\n",
    "plt.plot(hist.history['acc'], color='b')\n",
    "plt.plot(hist.history['val_acc'], color='r')\n",
    "plt.show()"
   ]
  },
  {
   "cell_type": "code",
   "execution_count": 27,
   "metadata": {},
   "outputs": [
    {
     "ename": "NameError",
     "evalue": "name 'y_test' is not defined",
     "output_type": "error",
     "traceback": [
      "\u001b[1;31m---------------------------------------------------------------------------\u001b[0m",
      "\u001b[1;31mNameError\u001b[0m                                 Traceback (most recent call last)",
      "\u001b[1;32m<ipython-input-27-338aa57be5df>\u001b[0m in \u001b[0;36m<module>\u001b[1;34m()\u001b[0m\n\u001b[1;32m----> 1\u001b[1;33m \u001b[0mnon_idx\u001b[0m \u001b[1;33m=\u001b[0m \u001b[0mnp\u001b[0m\u001b[1;33m.\u001b[0m\u001b[0mwhere\u001b[0m\u001b[1;33m(\u001b[0m\u001b[0my_test\u001b[0m\u001b[1;33m[\u001b[0m\u001b[1;33m:\u001b[0m\u001b[1;33m,\u001b[0m\u001b[1;36m0\u001b[0m\u001b[1;33m]\u001b[0m \u001b[1;33m==\u001b[0m \u001b[1;36m0.\u001b[0m\u001b[1;33m)\u001b[0m\u001b[1;33m[\u001b[0m\u001b[1;36m0\u001b[0m\u001b[1;33m]\u001b[0m\u001b[1;33m\u001b[0m\u001b[0m\n\u001b[0m\u001b[0;32m      2\u001b[0m \u001b[0myes_idx\u001b[0m \u001b[1;33m=\u001b[0m \u001b[0mnp\u001b[0m\u001b[1;33m.\u001b[0m\u001b[0mwhere\u001b[0m\u001b[1;33m(\u001b[0m\u001b[0my_test\u001b[0m\u001b[1;33m[\u001b[0m\u001b[1;33m:\u001b[0m\u001b[1;33m,\u001b[0m\u001b[1;36m0\u001b[0m\u001b[1;33m]\u001b[0m \u001b[1;33m==\u001b[0m \u001b[1;36m1.\u001b[0m\u001b[1;33m)\u001b[0m\u001b[1;33m[\u001b[0m\u001b[1;36m0\u001b[0m\u001b[1;33m]\u001b[0m\u001b[1;33m\u001b[0m\u001b[0m\n\u001b[0;32m      3\u001b[0m \u001b[0my_hat\u001b[0m \u001b[1;33m=\u001b[0m \u001b[0mmodel\u001b[0m\u001b[1;33m.\u001b[0m\u001b[0mpredict\u001b[0m\u001b[1;33m(\u001b[0m\u001b[0mx_test\u001b[0m\u001b[1;33m)\u001b[0m\u001b[1;33m[\u001b[0m\u001b[1;33m:\u001b[0m\u001b[1;33m,\u001b[0m\u001b[1;36m0\u001b[0m\u001b[1;33m]\u001b[0m\u001b[1;33m\u001b[0m\u001b[0m\n",
      "\u001b[1;31mNameError\u001b[0m: name 'y_test' is not defined"
     ]
    }
   ],
   "source": [
    "non_idx = np.where(y_test[:,0] == 0.)[0]\n",
    "yes_idx = np.where(y_test[:,0] == 1.)[0]\n",
    "y_hat = model.predict(x_test)[:,0]"
   ]
  },
  {
   "cell_type": "code",
   "execution_count": null,
   "metadata": {},
   "outputs": [],
   "source": []
  }
 ],
 "metadata": {
  "kernelspec": {
   "display_name": "Python 3",
   "language": "python",
   "name": "python3"
  },
  "language_info": {
   "codemirror_mode": {
    "name": "ipython",
    "version": 3
   },
   "file_extension": ".py",
   "mimetype": "text/x-python",
   "name": "python",
   "nbconvert_exporter": "python",
   "pygments_lexer": "ipython3",
   "version": "3.6.4"
  }
 },
 "nbformat": 4,
 "nbformat_minor": 2
}
